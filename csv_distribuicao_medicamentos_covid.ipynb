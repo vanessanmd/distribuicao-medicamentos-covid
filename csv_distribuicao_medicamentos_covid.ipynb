{
 "cells": [
  {
   "cell_type": "markdown",
   "metadata": {},
   "source": [
    "#  Análise da distribuição dos medicamentos para COVID-19\n",
    "\n",
    "**Análise feita baseada na aula do professor Marcos Guimarães do Observatório Social de Brasília (https://github.com/OSBrasilia).**\n",
    "\n",
    "---\n",
    "\n",
    "Detalhamento da distribuição dos medicamentos Cloroquina e Oseltamivir realizada pelo Ministério da Saúde no ano de 2020.\n",
    "\n",
    "*Dataset: https://opendatasus.saude.gov.br/dataset/distribuicao-de-medicamentos-covid-19*  \n",
    "\n",
    "\n",
    "#### Check list:\n",
    "1. Definição do problema\n",
    "2. Obtenção dos dados\n",
    "3. Análise exploratória dos dados\n",
    "4. Conclusão\n",
    "        \n"
   ]
  },
  {
   "cell_type": "markdown",
   "metadata": {},
   "source": [
    "## 1. Definição do problema\n",
    "O objetivo desta análise é identicar distribuição dos medicamentos para COVID-19 para os Estados e em quais programas\n",
    "de saúde esses medicamentos foram enquadrados."
   ]
  },
  {
   "cell_type": "markdown",
   "metadata": {},
   "source": [
    "## 2. Obtenção dos dados"
   ]
  },
  {
   "cell_type": "code",
   "execution_count": 1,
   "metadata": {},
   "outputs": [],
   "source": [
    "# Importando bibliotecas\n",
    "\n",
    "import pandas as pd\n",
    "import matplotlib.pyplot as plt\n",
    "\n",
    "%matplotlib inline"
   ]
  },
  {
   "cell_type": "code",
   "execution_count": 2,
   "metadata": {},
   "outputs": [],
   "source": [
    "# Carregando o arquivo de dados e gerando o DataFrame\n",
    "df = pd.read_csv('./datasets/DistribuicaoCloroquinaOseltamivir.csv', sep=';', encoding='cp1252')"
   ]
  },
  {
   "cell_type": "markdown",
   "metadata": {},
   "source": [
    "## 3. Análise exploratória dos dados\n",
    "\n",
    "**Dicionário de Dados:**\n",
    "* Região: Regiões do Brasil;\n",
    "\n",
    "* UF: Unidades da Federeção;\n",
    "\n",
    "* Destinatário: Entidade para o qual o medicamento foi enviado;\n",
    "\n",
    "* Localidade: Nome da cidade da entidade de saúde;\n",
    "\n",
    "* Item: Descrição do medicamento enviado;\n",
    "\n",
    "* Programa de Saúde: Programa de saúde cujo medicamento está vinculado;\n",
    "\n",
    "* Quantidade: Quantidade de medicamentos enviados em cápsulas (Oseltamivir) ou comprimidos (Difosfato de Cloroquina);\n",
    "\n",
    "* Status: Situação de envio do medicamento;\n",
    "\n",
    "* Data de entrega: Data em que o medicamento foi entregue à entidade."
   ]
  },
  {
   "cell_type": "code",
   "execution_count": 3,
   "metadata": {
    "scrolled": true
   },
   "outputs": [
    {
     "data": {
      "text/html": [
       "<div>\n",
       "<style scoped>\n",
       "    .dataframe tbody tr th:only-of-type {\n",
       "        vertical-align: middle;\n",
       "    }\n",
       "\n",
       "    .dataframe tbody tr th {\n",
       "        vertical-align: top;\n",
       "    }\n",
       "\n",
       "    .dataframe thead th {\n",
       "        text-align: right;\n",
       "    }\n",
       "</style>\n",
       "<table border=\"1\" class=\"dataframe\">\n",
       "  <thead>\n",
       "    <tr style=\"text-align: right;\">\n",
       "      <th></th>\n",
       "      <th>REGIÃO</th>\n",
       "      <th>UF</th>\n",
       "      <th>DESTINATARIO</th>\n",
       "      <th>LOCALIDADE</th>\n",
       "      <th>ITEM</th>\n",
       "      <th>PROGRAMA DE SAÚDE</th>\n",
       "      <th>QUANTIDADE</th>\n",
       "      <th>STATUS</th>\n",
       "      <th>DATA DE ENTREGA</th>\n",
       "    </tr>\n",
       "  </thead>\n",
       "  <tbody>\n",
       "    <tr>\n",
       "      <th>0</th>\n",
       "      <td>NORDESTE</td>\n",
       "      <td>ALAGOAS</td>\n",
       "      <td>SES</td>\n",
       "      <td>ALAGOAS</td>\n",
       "      <td>DIFOSFATO DE CLOROQUINA 150MG</td>\n",
       "      <td>COVID-19</td>\n",
       "      <td>-350.0</td>\n",
       "      <td>REMANEJAMENTO</td>\n",
       "      <td>04/09/2020</td>\n",
       "    </tr>\n",
       "    <tr>\n",
       "      <th>1</th>\n",
       "      <td>NORDESTE</td>\n",
       "      <td>MARANHÃO</td>\n",
       "      <td>SES</td>\n",
       "      <td>MARANHÃO</td>\n",
       "      <td>DIFOSFATO DE CLOROQUINA 150MG</td>\n",
       "      <td>COVID-19</td>\n",
       "      <td>-180.0</td>\n",
       "      <td>REMANEJAMENTO</td>\n",
       "      <td>04/09/2020</td>\n",
       "    </tr>\n",
       "    <tr>\n",
       "      <th>2</th>\n",
       "      <td>NORDESTE</td>\n",
       "      <td>PARAÍBA</td>\n",
       "      <td>SES</td>\n",
       "      <td>PARAÍBA</td>\n",
       "      <td>DIFOSFATO DE CLOROQUINA 150MG</td>\n",
       "      <td>COVID-19</td>\n",
       "      <td>-40.0</td>\n",
       "      <td>REMANEJAMENTO</td>\n",
       "      <td>04/09/2020</td>\n",
       "    </tr>\n",
       "    <tr>\n",
       "      <th>3</th>\n",
       "      <td>CENTRO-OESTE</td>\n",
       "      <td>DISTRITO FEDERAL</td>\n",
       "      <td>SES</td>\n",
       "      <td>DISTRITO FEDERAL</td>\n",
       "      <td>DIFOSFATO DE CLOROQUINA 150MG</td>\n",
       "      <td>COVID-19</td>\n",
       "      <td>-10.0</td>\n",
       "      <td>REMANEJAMENTO</td>\n",
       "      <td>04/09/2020</td>\n",
       "    </tr>\n",
       "    <tr>\n",
       "      <th>4</th>\n",
       "      <td>NORDESTE</td>\n",
       "      <td>RIO GRANDE DO NORTE</td>\n",
       "      <td>SES</td>\n",
       "      <td>RIO GRANDE DO NORTE</td>\n",
       "      <td>DIFOSFATO DE CLOROQUINA 150MG</td>\n",
       "      <td>COVID-19</td>\n",
       "      <td>-7.0</td>\n",
       "      <td>REMANEJAMENTO</td>\n",
       "      <td>04/09/2020</td>\n",
       "    </tr>\n",
       "  </tbody>\n",
       "</table>\n",
       "</div>"
      ],
      "text/plain": [
       "         REGIÃO                    UF DESTINATARIO            LOCALIDADE  \\\n",
       "0      NORDESTE               ALAGOAS          SES              ALAGOAS    \n",
       "1      NORDESTE             MARANHÃO           SES             MARANHÃO    \n",
       "2      NORDESTE               PARAÍBA          SES               PARAÍBA   \n",
       "3  CENTRO-OESTE     DISTRITO FEDERAL           SES     DISTRITO FEDERAL    \n",
       "4      NORDESTE  RIO GRANDE DO NORTE           SES  RIO GRANDE DO NORTE    \n",
       "\n",
       "                            ITEM PROGRAMA DE SAÚDE  QUANTIDADE  \\\n",
       "0  DIFOSFATO DE CLOROQUINA 150MG          COVID-19      -350.0   \n",
       "1  DIFOSFATO DE CLOROQUINA 150MG          COVID-19      -180.0   \n",
       "2  DIFOSFATO DE CLOROQUINA 150MG          COVID-19       -40.0   \n",
       "3  DIFOSFATO DE CLOROQUINA 150MG          COVID-19       -10.0   \n",
       "4  DIFOSFATO DE CLOROQUINA 150MG          COVID-19        -7.0   \n",
       "\n",
       "           STATUS DATA DE ENTREGA  \n",
       "0  REMANEJAMENTO       04/09/2020  \n",
       "1  REMANEJAMENTO       04/09/2020  \n",
       "2  REMANEJAMENTO       04/09/2020  \n",
       "3  REMANEJAMENTO       04/09/2020  \n",
       "4  REMANEJAMENTO       04/09/2020  "
      ]
     },
     "execution_count": 3,
     "metadata": {},
     "output_type": "execute_result"
    }
   ],
   "source": [
    "# Visualisando o dataframe (linhas, colunas)\n",
    "df.head(5)"
   ]
  },
  {
   "cell_type": "code",
   "execution_count": 4,
   "metadata": {},
   "outputs": [
    {
     "name": "stdout",
     "output_type": "stream",
     "text": [
      "Formato do dataframe: (916, 9)\n"
     ]
    }
   ],
   "source": [
    "# Formato do dataframe\n",
    "print('Formato do dataframe:', df.shape)"
   ]
  },
  {
   "cell_type": "code",
   "execution_count": 5,
   "metadata": {
    "scrolled": true
   },
   "outputs": [
    {
     "name": "stdout",
     "output_type": "stream",
     "text": [
      "<class 'pandas.core.frame.DataFrame'>\n",
      "RangeIndex: 916 entries, 0 to 915\n",
      "Data columns (total 9 columns):\n",
      " #   Column             Non-Null Count  Dtype  \n",
      "---  ------             --------------  -----  \n",
      " 0   REGIÃO             916 non-null    object \n",
      " 1   UF                 916 non-null    object \n",
      " 2   DESTINATARIO       916 non-null    object \n",
      " 3   LOCALIDADE         916 non-null    object \n",
      " 4   ITEM               916 non-null    object \n",
      " 5   PROGRAMA DE SAÚDE  916 non-null    object \n",
      " 6   QUANTIDADE         915 non-null    float64\n",
      " 7   STATUS             916 non-null    object \n",
      " 8   DATA DE ENTREGA    916 non-null    object \n",
      "dtypes: float64(1), object(8)\n",
      "memory usage: 64.5+ KB\n"
     ]
    }
   ],
   "source": [
    "# Tipos e quantidades dos dados\n",
    "df.info()"
   ]
  },
  {
   "cell_type": "code",
   "execution_count": 6,
   "metadata": {},
   "outputs": [
    {
     "data": {
      "text/html": [
       "<div>\n",
       "<style scoped>\n",
       "    .dataframe tbody tr th:only-of-type {\n",
       "        vertical-align: middle;\n",
       "    }\n",
       "\n",
       "    .dataframe tbody tr th {\n",
       "        vertical-align: top;\n",
       "    }\n",
       "\n",
       "    .dataframe thead th {\n",
       "        text-align: right;\n",
       "    }\n",
       "</style>\n",
       "<table border=\"1\" class=\"dataframe\">\n",
       "  <thead>\n",
       "    <tr style=\"text-align: right;\">\n",
       "      <th></th>\n",
       "      <th>REGIÃO</th>\n",
       "      <th>UF</th>\n",
       "      <th>DESTINATARIO</th>\n",
       "      <th>LOCALIDADE</th>\n",
       "      <th>ITEM</th>\n",
       "      <th>PROGRAMA DE SAÚDE</th>\n",
       "      <th>QUANTIDADE</th>\n",
       "      <th>STATUS</th>\n",
       "      <th>DATA DE ENTREGA</th>\n",
       "    </tr>\n",
       "  </thead>\n",
       "  <tbody>\n",
       "    <tr>\n",
       "      <th>731</th>\n",
       "      <td>NORDESTE</td>\n",
       "      <td>PIAUÍ</td>\n",
       "      <td>SMS</td>\n",
       "      <td>TERESINA</td>\n",
       "      <td>FOSFATO DE OSELTAMIVIR 45MG</td>\n",
       "      <td>INFLUENZA</td>\n",
       "      <td>NaN</td>\n",
       "      <td>ENTREGA REALIZADA</td>\n",
       "      <td>14/09/2020</td>\n",
       "    </tr>\n",
       "  </tbody>\n",
       "</table>\n",
       "</div>"
      ],
      "text/plain": [
       "       REGIÃO     UF DESTINATARIO LOCALIDADE                         ITEM  \\\n",
       "731  NORDESTE  PIAUÍ          SMS   TERESINA  FOSFATO DE OSELTAMIVIR 45MG   \n",
       "\n",
       "    PROGRAMA DE SAÚDE  QUANTIDADE             STATUS DATA DE ENTREGA  \n",
       "731         INFLUENZA         NaN  ENTREGA REALIZADA      14/09/2020  "
      ]
     },
     "execution_count": 6,
     "metadata": {},
     "output_type": "execute_result"
    }
   ],
   "source": [
    "# Verificando a coluna que possui dado nulo\n",
    "df[df['QUANTIDADE'].isnull()]"
   ]
  },
  {
   "cell_type": "markdown",
   "metadata": {},
   "source": [
    "### Distribuição por região"
   ]
  },
  {
   "cell_type": "code",
   "execution_count": 7,
   "metadata": {},
   "outputs": [
    {
     "data": {
      "text/plain": [
       "NORDESTE        264\n",
       "NORTE           219\n",
       "CENTRO-OESTE    161\n",
       "SUDESTE         136\n",
       "SUL              93\n",
       "SUL              34\n",
       "NORTE             6\n",
       "NORDESTE          2\n",
       "SUDESTE           1\n",
       "Name: REGIÃO, dtype: int64"
      ]
     },
     "execution_count": 7,
     "metadata": {},
     "output_type": "execute_result"
    }
   ],
   "source": [
    "# Análise inicial dos dados por região\n",
    "df['REGIÃO'].value_counts()"
   ]
  },
  {
   "cell_type": "code",
   "execution_count": 8,
   "metadata": {},
   "outputs": [],
   "source": [
    "# Como os nomes de algumas regiões estão se repetindo, então ten que retirar os espaços em branco dos nomes\n",
    "df['REGIÃO'] = df['REGIÃO'].str.strip()"
   ]
  },
  {
   "cell_type": "code",
   "execution_count": 9,
   "metadata": {},
   "outputs": [
    {
     "data": {
      "text/plain": [
       "NORDESTE        266\n",
       "NORTE           225\n",
       "CENTRO-OESTE    161\n",
       "SUDESTE         137\n",
       "SUL             127\n",
       "Name: REGIÃO, dtype: int64"
      ]
     },
     "execution_count": 9,
     "metadata": {},
     "output_type": "execute_result"
    }
   ],
   "source": [
    "df['REGIÃO'].value_counts()"
   ]
  },
  {
   "cell_type": "markdown",
   "metadata": {},
   "source": [
    "### Distribuição por Estado"
   ]
  },
  {
   "cell_type": "code",
   "execution_count": 10,
   "metadata": {},
   "outputs": [
    {
     "data": {
      "text/plain": [
       "MATO GROSSO             69\n",
       "RIO GRANDE DO SUL       48\n",
       "MINAS GERAIS            48\n",
       "CEARÁ                   42\n",
       "PARÁ                    41\n",
       "AMAZONAS                39\n",
       "SÃO PAULO               37\n",
       "SANTA CATARINA          36\n",
       "ACRE                    36\n",
       "GOIÁS                   34\n",
       "RONDÔNIA                33\n",
       "PARANÁ                  31\n",
       "BAHIA                   31\n",
       "PIAUÍ                   28\n",
       "PARAÍBA                 28\n",
       "RORAIMA                 27\n",
       "ESPÍRITO SANTO          26\n",
       "PERNAMBUCO              25\n",
       "SERGIPE                 23\n",
       "RIO GRANDE DO NORTE     23\n",
       "DISTRITO FEDERAL        22\n",
       "AMAPA                   22\n",
       "RIO DE JANEIRO          21\n",
       "TOCANTINS               19\n",
       "MARANHÃO                19\n",
       "MATO GROSSO DO SUL      18\n",
       "MATO GROSSO DO SUL      17\n",
       "ALAGOAS                 15\n",
       "ALAGOAS                 14\n",
       "BAHIA                   11\n",
       "SANTA CATARINA           8\n",
       "RIO GRANDE DO NORTE      4\n",
       "RIO DE JANEIRO           4\n",
       "PARANÁ                   4\n",
       "MARANHÃO                 3\n",
       "RORAIMA                  3\n",
       "ACRE                     3\n",
       "AMAZONAS                 2\n",
       "MATO GROSSO              1\n",
       "ESPÍRITO SANTO           1\n",
       "Name: UF, dtype: int64"
      ]
     },
     "execution_count": 10,
     "metadata": {},
     "output_type": "execute_result"
    }
   ],
   "source": [
    "# Análise inicial dos dados por UF\n",
    "df['UF'].value_counts()"
   ]
  },
  {
   "cell_type": "markdown",
   "metadata": {},
   "source": [
    "Os nomes de alguns Estados também estão repetidos, nesse caso, é necessário retirar os espaços em branco para que eles fiquem agrupados.\n",
    "O dataframe df não é tipo str, portanto não é possível utilizar diretamente o comando strip(): df = df.str.strip(). Isso retornará um erro.\n",
    "\n",
    "Ao identificar as colunas do tipo object, será executado um loop para eliminar os espaços em branco nessas colunas."
   ]
  },
  {
   "cell_type": "code",
   "execution_count": 11,
   "metadata": {},
   "outputs": [
    {
     "data": {
      "text/plain": [
       "Index(['REGIÃO', 'UF', 'DESTINATARIO', 'LOCALIDADE', 'ITEM',\n",
       "       'PROGRAMA DE SAÚDE', 'STATUS', 'DATA DE ENTREGA'],\n",
       "      dtype='object')"
      ]
     },
     "execution_count": 11,
     "metadata": {},
     "output_type": "execute_result"
    }
   ],
   "source": [
    "# Selecionando colunas por tipo\n",
    "df.select_dtypes('object').columns"
   ]
  },
  {
   "cell_type": "code",
   "execution_count": 12,
   "metadata": {},
   "outputs": [],
   "source": [
    "# Executando o loop\n",
    "for col in df.select_dtypes('object').columns:\n",
    "    df[col] = df[col].str.strip()"
   ]
  },
  {
   "cell_type": "code",
   "execution_count": 13,
   "metadata": {},
   "outputs": [
    {
     "data": {
      "text/plain": [
       "MATO GROSSO            70\n",
       "MINAS GERAIS           48\n",
       "RIO GRANDE DO SUL      48\n",
       "SANTA CATARINA         44\n",
       "CEARÁ                  42\n",
       "BAHIA                  42\n",
       "AMAZONAS               41\n",
       "PARÁ                   41\n",
       "ACRE                   39\n",
       "SÃO PAULO              37\n",
       "MATO GROSSO DO SUL     35\n",
       "PARANÁ                 35\n",
       "GOIÁS                  34\n",
       "RONDÔNIA               33\n",
       "RORAIMA                30\n",
       "ALAGOAS                29\n",
       "PARAÍBA                28\n",
       "PIAUÍ                  28\n",
       "ESPÍRITO SANTO         27\n",
       "RIO GRANDE DO NORTE    27\n",
       "PERNAMBUCO             25\n",
       "RIO DE JANEIRO         25\n",
       "SERGIPE                23\n",
       "AMAPA                  22\n",
       "DISTRITO FEDERAL       22\n",
       "MARANHÃO               22\n",
       "TOCANTINS              19\n",
       "Name: UF, dtype: int64"
      ]
     },
     "execution_count": 13,
     "metadata": {},
     "output_type": "execute_result"
    }
   ],
   "source": [
    "# Análise inicial dos dados por UF\n",
    "df['UF'].value_counts()"
   ]
  },
  {
   "cell_type": "markdown",
   "metadata": {},
   "source": [
    "#### Distribuições feitas por Estado"
   ]
  },
  {
   "cell_type": "code",
   "execution_count": 14,
   "metadata": {},
   "outputs": [
    {
     "data": {
      "image/png": "[encoded data removed]",
      "text/plain": [
       "<Figure size 720x576 with 1 Axes>"
      ]
     },
     "metadata": {
      "needs_background": "light"
     },
     "output_type": "display_data"
    }
   ],
   "source": [
    "# Grafico de barra da distribuição total dos medicamentos\n",
    "df['UF'].value_counts().plot.bar(figsize=(10, 8));"
   ]
  },
  {
   "cell_type": "code",
   "execution_count": 15,
   "metadata": {},
   "outputs": [
    {
     "data": {
      "text/plain": [
       "INFLUENZA    655\n",
       "COVID-19     261\n",
       "Name: PROGRAMA DE SAÚDE, dtype: int64"
      ]
     },
     "execution_count": 15,
     "metadata": {},
     "output_type": "execute_result"
    }
   ],
   "source": [
    "# Distribuição de medicamentos por Programa de Saúde\n",
    "df['PROGRAMA DE SAÚDE'].value_counts()"
   ]
  },
  {
   "cell_type": "code",
   "execution_count": 16,
   "metadata": {},
   "outputs": [
    {
     "data": {
      "text/plain": [
       "MATO GROSSO            34\n",
       "RIO GRANDE DO SUL      30\n",
       "MINAS GERAIS           18\n",
       "SANTA CATARINA         17\n",
       "RORAIMA                14\n",
       "GOIÁS                  12\n",
       "BAHIA                  11\n",
       "SÃO PAULO               9\n",
       "ALAGOAS                 8\n",
       "PARANÁ                  8\n",
       "MATO GROSSO DO SUL      7\n",
       "RIO GRANDE DO NORTE     7\n",
       "ESPÍRITO SANTO          7\n",
       "ACRE                    7\n",
       "AMAZONAS                7\n",
       "PARÁ                    6\n",
       "PERNAMBUCO              6\n",
       "PIAUÍ                   6\n",
       "RONDÔNIA                6\n",
       "RIO DE JANEIRO          6\n",
       "PARAÍBA                 6\n",
       "AMAPA                   5\n",
       "CEARÁ                   5\n",
       "TOCANTINS               5\n",
       "DISTRITO FEDERAL        5\n",
       "MARANHÃO                5\n",
       "SERGIPE                 4\n",
       "Name: UF, dtype: int64"
      ]
     },
     "execution_count": 16,
     "metadata": {},
     "output_type": "execute_result"
    }
   ],
   "source": [
    "# Analisando a distribuição pelo Programa de Saúde COVID-19\n",
    "df[df['PROGRAMA DE SAÚDE'] == 'COVID-19']['UF'].value_counts()"
   ]
  },
  {
   "cell_type": "code",
   "execution_count": 17,
   "metadata": {},
   "outputs": [
    {
     "data": {
      "text/plain": [
       "FOSFATO DE OSELTAMIVIR 75MG      284\n",
       "DIFOSFATO DE CLOROQUINA 150MG    236\n",
       "FOSFATO DE OSELTAMIVIR 30MG      188\n",
       "FOSFATO DE OSELTAMIVIR 45MG      183\n",
       "HIDROXICLOROQUINA 200MG           25\n",
       "Name: ITEM, dtype: int64"
      ]
     },
     "execution_count": 17,
     "metadata": {},
     "output_type": "execute_result"
    }
   ],
   "source": [
    "# Quais medicamentos foram distribuidos\n",
    "df['ITEM'].value_counts()"
   ]
  },
  {
   "cell_type": "code",
   "execution_count": 18,
   "metadata": {},
   "outputs": [],
   "source": [
    "# Criar uma tabela dinamica (pivot table) cruzando os medicamentos e os Programa de Saúde\n",
    "tabela_medicamentos = pd.pivot_table(df, values='QUANTIDADE', index=['UF'], columns=['PROGRAMA DE SAÚDE'])\n"
   ]
  },
  {
   "cell_type": "code",
   "execution_count": 19,
   "metadata": {
    "scrolled": true
   },
   "outputs": [
    {
     "data": {
      "text/html": [
       "<div>\n",
       "<style scoped>\n",
       "    .dataframe tbody tr th:only-of-type {\n",
       "        vertical-align: middle;\n",
       "    }\n",
       "\n",
       "    .dataframe tbody tr th {\n",
       "        vertical-align: top;\n",
       "    }\n",
       "\n",
       "    .dataframe thead th {\n",
       "        text-align: right;\n",
       "    }\n",
       "</style>\n",
       "<table border=\"1\" class=\"dataframe\">\n",
       "  <thead>\n",
       "    <tr style=\"text-align: right;\">\n",
       "      <th>PROGRAMA DE SAÚDE</th>\n",
       "      <th>COVID-19</th>\n",
       "      <th>INFLUENZA</th>\n",
       "    </tr>\n",
       "    <tr>\n",
       "      <th>UF</th>\n",
       "      <th></th>\n",
       "      <th></th>\n",
       "    </tr>\n",
       "  </thead>\n",
       "  <tbody>\n",
       "    <tr>\n",
       "      <th>ACRE</th>\n",
       "      <td>24.928571</td>\n",
       "      <td>12.828437</td>\n",
       "    </tr>\n",
       "    <tr>\n",
       "      <th>ALAGOAS</th>\n",
       "      <td>8.687500</td>\n",
       "      <td>30.619048</td>\n",
       "    </tr>\n",
       "    <tr>\n",
       "      <th>AMAPA</th>\n",
       "      <td>17.600000</td>\n",
       "      <td>189.441176</td>\n",
       "    </tr>\n",
       "    <tr>\n",
       "      <th>AMAZONAS</th>\n",
       "      <td>73.000000</td>\n",
       "      <td>28.957647</td>\n",
       "    </tr>\n",
       "    <tr>\n",
       "      <th>BAHIA</th>\n",
       "      <td>25.500000</td>\n",
       "      <td>10.828065</td>\n",
       "    </tr>\n",
       "  </tbody>\n",
       "</table>\n",
       "</div>"
      ],
      "text/plain": [
       "PROGRAMA DE SAÚDE   COVID-19   INFLUENZA\n",
       "UF                                      \n",
       "ACRE               24.928571   12.828437\n",
       "ALAGOAS             8.687500   30.619048\n",
       "AMAPA              17.600000  189.441176\n",
       "AMAZONAS           73.000000   28.957647\n",
       "BAHIA              25.500000   10.828065"
      ]
     },
     "execution_count": 19,
     "metadata": {},
     "output_type": "execute_result"
    }
   ],
   "source": [
    "tabela_medicamentos.head()"
   ]
  },
  {
   "cell_type": "markdown",
   "metadata": {},
   "source": [
    "### Distrubuição por Estado por Programa de Saúde"
   ]
  },
  {
   "cell_type": "code",
   "execution_count": 20,
   "metadata": {},
   "outputs": [
    {
     "data": {
      "image/png": "[encoded data removed]",
      "text/plain": [
       "<Figure size 720x576 with 1 Axes>"
      ]
     },
     "metadata": {
      "needs_background": "light"
     },
     "output_type": "display_data"
    }
   ],
   "source": [
    "# Plotar gráfico da barras\n",
    "tabela_medicamentos.plot.bar(stacked=True, figsize=(10,8))\n",
    "\n",
    "# Nome dos eixos\n",
    "plt.xlabel('Estado')\n",
    "plt.ylabel('Quantidade');"
   ]
  },
  {
   "cell_type": "markdown",
   "metadata": {},
   "source": [
    "### Conhecendo a população estimada por Estado"
   ]
  },
  {
   "cell_type": "code",
   "execution_count": 21,
   "metadata": {
    "scrolled": true
   },
   "outputs": [
    {
     "data": {
      "text/html": [
       "<div>\n",
       "<style scoped>\n",
       "    .dataframe tbody tr th:only-of-type {\n",
       "        vertical-align: middle;\n",
       "    }\n",
       "\n",
       "    .dataframe tbody tr th {\n",
       "        vertical-align: top;\n",
       "    }\n",
       "\n",
       "    .dataframe thead th {\n",
       "        text-align: right;\n",
       "    }\n",
       "</style>\n",
       "<table border=\"1\" class=\"dataframe\">\n",
       "  <thead>\n",
       "    <tr style=\"text-align: right;\">\n",
       "      <th></th>\n",
       "      <th>UF [-]</th>\n",
       "      <th>Código [-]</th>\n",
       "      <th>Gentílico [-]</th>\n",
       "      <th>Governador [2019]</th>\n",
       "      <th>Capital [2010]</th>\n",
       "      <th>Área Territorial - km² [2020]</th>\n",
       "      <th>População estimada - pessoas [2020]</th>\n",
       "      <th>Densidade demográfica - hab/km² [2010]</th>\n",
       "      <th>Matrículas no ensino fundamental - matrículas [2018]</th>\n",
       "      <th>IDH &lt;span&gt;Índice de desenvolvimento humano&lt;/span&gt; [2010]</th>\n",
       "      <th>Receitas realizadas - R$ (×1000) [2017]</th>\n",
       "      <th>Despesas empenhadas - R$ (×1000) [2017]</th>\n",
       "      <th>Rendimento mensal domiciliar per capita - R$ [2020]</th>\n",
       "      <th>Total de veículos - veículos [2018]</th>\n",
       "    </tr>\n",
       "  </thead>\n",
       "  <tbody>\n",
       "    <tr>\n",
       "      <th>0</th>\n",
       "      <td>Acre</td>\n",
       "      <td>12.0</td>\n",
       "      <td>acriano</td>\n",
       "      <td>GLADSON DE LIMA CAMELI</td>\n",
       "      <td>Rio Branco</td>\n",
       "      <td>164173.431</td>\n",
       "      <td>894470.0</td>\n",
       "      <td>4.47</td>\n",
       "      <td>157646.0</td>\n",
       "      <td>0.663</td>\n",
       "      <td>6.632883e+06</td>\n",
       "      <td>6.084417e+06</td>\n",
       "      <td>917.0</td>\n",
       "      <td>277831.0</td>\n",
       "    </tr>\n",
       "    <tr>\n",
       "      <th>1</th>\n",
       "      <td>Alagoas</td>\n",
       "      <td>27.0</td>\n",
       "      <td>alagoano</td>\n",
       "      <td>JOSE RENAN VASCONCELOS CALHEIROS FILHO</td>\n",
       "      <td>Maceió</td>\n",
       "      <td>27830.656</td>\n",
       "      <td>3351543.0</td>\n",
       "      <td>112.33</td>\n",
       "      <td>490587.0</td>\n",
       "      <td>0.631</td>\n",
       "      <td>1.195044e+07</td>\n",
       "      <td>1.046063e+07</td>\n",
       "      <td>796.0</td>\n",
       "      <td>834827.0</td>\n",
       "    </tr>\n",
       "    <tr>\n",
       "      <th>2</th>\n",
       "      <td>Amapá</td>\n",
       "      <td>16.0</td>\n",
       "      <td>amapaense</td>\n",
       "      <td>ANTONIO WALDEZ GÓES DA SILVA</td>\n",
       "      <td>Macapá</td>\n",
       "      <td>142470.762</td>\n",
       "      <td>861773.0</td>\n",
       "      <td>4.69</td>\n",
       "      <td>136185.0</td>\n",
       "      <td>0.708</td>\n",
       "      <td>5.396417e+06</td>\n",
       "      <td>4.224464e+06</td>\n",
       "      <td>893.0</td>\n",
       "      <td>195039.0</td>\n",
       "    </tr>\n",
       "    <tr>\n",
       "      <th>3</th>\n",
       "      <td>Amazonas</td>\n",
       "      <td>13.0</td>\n",
       "      <td>amazonense</td>\n",
       "      <td>WILSON MIRANDA LIMA</td>\n",
       "      <td>Manaus</td>\n",
       "      <td>1559167.878</td>\n",
       "      <td>4207714.0</td>\n",
       "      <td>2.23</td>\n",
       "      <td>705007.0</td>\n",
       "      <td>0.674</td>\n",
       "      <td>1.732846e+07</td>\n",
       "      <td>1.532490e+07</td>\n",
       "      <td>852.0</td>\n",
       "      <td>883083.0</td>\n",
       "    </tr>\n",
       "    <tr>\n",
       "      <th>4</th>\n",
       "      <td>Bahia</td>\n",
       "      <td>29.0</td>\n",
       "      <td>baiano</td>\n",
       "      <td>RUI COSTA DOS SANTOS</td>\n",
       "      <td>Salvador</td>\n",
       "      <td>564760.427</td>\n",
       "      <td>14930634.0</td>\n",
       "      <td>24.82</td>\n",
       "      <td>2034711.0</td>\n",
       "      <td>0.660</td>\n",
       "      <td>5.019100e+07</td>\n",
       "      <td>4.557016e+07</td>\n",
       "      <td>965.0</td>\n",
       "      <td>4139107.0</td>\n",
       "    </tr>\n",
       "  </tbody>\n",
       "</table>\n",
       "</div>"
      ],
      "text/plain": [
       "     UF [-]  Código [-] Gentílico [-]                       Governador [2019]  \\\n",
       "0      Acre        12.0       acriano                  GLADSON DE LIMA CAMELI   \n",
       "1   Alagoas        27.0      alagoano  JOSE RENAN VASCONCELOS CALHEIROS FILHO   \n",
       "2     Amapá        16.0     amapaense            ANTONIO WALDEZ GÓES DA SILVA   \n",
       "3  Amazonas        13.0    amazonense                     WILSON MIRANDA LIMA   \n",
       "4     Bahia        29.0        baiano                    RUI COSTA DOS SANTOS   \n",
       "\n",
       "  Capital [2010]  Área Territorial - km² [2020]  \\\n",
       "0     Rio Branco                     164173.431   \n",
       "1         Maceió                      27830.656   \n",
       "2         Macapá                     142470.762   \n",
       "3         Manaus                    1559167.878   \n",
       "4       Salvador                     564760.427   \n",
       "\n",
       "   População estimada - pessoas [2020]  \\\n",
       "0                             894470.0   \n",
       "1                            3351543.0   \n",
       "2                             861773.0   \n",
       "3                            4207714.0   \n",
       "4                           14930634.0   \n",
       "\n",
       "   Densidade demográfica - hab/km² [2010]  \\\n",
       "0                                    4.47   \n",
       "1                                  112.33   \n",
       "2                                    4.69   \n",
       "3                                    2.23   \n",
       "4                                   24.82   \n",
       "\n",
       "   Matrículas no ensino fundamental - matrículas [2018]  \\\n",
       "0                                           157646.0       \n",
       "1                                           490587.0       \n",
       "2                                           136185.0       \n",
       "3                                           705007.0       \n",
       "4                                          2034711.0       \n",
       "\n",
       "   IDH <span>Índice de desenvolvimento humano</span> [2010]  \\\n",
       "0                                              0.663           \n",
       "1                                              0.631           \n",
       "2                                              0.708           \n",
       "3                                              0.674           \n",
       "4                                              0.660           \n",
       "\n",
       "   Receitas realizadas - R$ (×1000) [2017]  \\\n",
       "0                             6.632883e+06   \n",
       "1                             1.195044e+07   \n",
       "2                             5.396417e+06   \n",
       "3                             1.732846e+07   \n",
       "4                             5.019100e+07   \n",
       "\n",
       "   Despesas empenhadas - R$ (×1000) [2017]  \\\n",
       "0                             6.084417e+06   \n",
       "1                             1.046063e+07   \n",
       "2                             4.224464e+06   \n",
       "3                             1.532490e+07   \n",
       "4                             4.557016e+07   \n",
       "\n",
       "   Rendimento mensal domiciliar per capita - R$ [2020]  \\\n",
       "0                                              917.0     \n",
       "1                                              796.0     \n",
       "2                                              893.0     \n",
       "3                                              852.0     \n",
       "4                                              965.0     \n",
       "\n",
       "   Total de veículos - veículos [2018]  \n",
       "0                             277831.0  \n",
       "1                             834827.0  \n",
       "2                             195039.0  \n",
       "3                             883083.0  \n",
       "4                            4139107.0  "
      ]
     },
     "execution_count": 21,
     "metadata": {},
     "output_type": "execute_result"
    }
   ],
   "source": [
    "# Carregando o arquivo de dados e gerando o DataFrame\n",
    "\n",
    "df_populacao = pd.read_excel('./datasets/populacao-estados-ibge.xlsx',skiprows=2)\n",
    "df_populacao.head()"
   ]
  },
  {
   "cell_type": "code",
   "execution_count": 22,
   "metadata": {},
   "outputs": [],
   "source": [
    "# Selecionando apenas as colunas que identificam o Estado e a População estimada \n",
    "df_populacao = df_populacao[['UF [-]', 'População estimada - pessoas [2020]']]"
   ]
  },
  {
   "cell_type": "code",
   "execution_count": 23,
   "metadata": {},
   "outputs": [
    {
     "data": {
      "text/html": [
       "<div>\n",
       "<style scoped>\n",
       "    .dataframe tbody tr th:only-of-type {\n",
       "        vertical-align: middle;\n",
       "    }\n",
       "\n",
       "    .dataframe tbody tr th {\n",
       "        vertical-align: top;\n",
       "    }\n",
       "\n",
       "    .dataframe thead th {\n",
       "        text-align: right;\n",
       "    }\n",
       "</style>\n",
       "<table border=\"1\" class=\"dataframe\">\n",
       "  <thead>\n",
       "    <tr style=\"text-align: right;\">\n",
       "      <th></th>\n",
       "      <th>UF [-]</th>\n",
       "      <th>População estimada - pessoas [2020]</th>\n",
       "    </tr>\n",
       "  </thead>\n",
       "  <tbody>\n",
       "    <tr>\n",
       "      <th>37</th>\n",
       "      <td>Matrículas no ensino fundamental: Ministério ...</td>\n",
       "      <td>NaN</td>\n",
       "    </tr>\n",
       "    <tr>\n",
       "      <th>38</th>\n",
       "      <td>Total de veículos: Ministério das Cidades, Dep...</td>\n",
       "      <td>NaN</td>\n",
       "    </tr>\n",
       "    <tr>\n",
       "      <th>39</th>\n",
       "      <td>Receitas realizadas: Contas anuais. Receitas o...</td>\n",
       "      <td>NaN</td>\n",
       "    </tr>\n",
       "    <tr>\n",
       "      <th>40</th>\n",
       "      <td>Despesas empenhadas: Contas anuais. Receitas o...</td>\n",
       "      <td>NaN</td>\n",
       "    </tr>\n",
       "    <tr>\n",
       "      <th>41</th>\n",
       "      <td>Rendimento mensal domiciliar per capita: IBGE,...</td>\n",
       "      <td>NaN</td>\n",
       "    </tr>\n",
       "  </tbody>\n",
       "</table>\n",
       "</div>"
      ],
      "text/plain": [
       "                                               UF [-]  \\\n",
       "37  Matrículas no ensino fundamental: Ministério ...   \n",
       "38  Total de veículos: Ministério das Cidades, Dep...   \n",
       "39  Receitas realizadas: Contas anuais. Receitas o...   \n",
       "40  Despesas empenhadas: Contas anuais. Receitas o...   \n",
       "41  Rendimento mensal domiciliar per capita: IBGE,...   \n",
       "\n",
       "    População estimada - pessoas [2020]  \n",
       "37                                  NaN  \n",
       "38                                  NaN  \n",
       "39                                  NaN  \n",
       "40                                  NaN  \n",
       "41                                  NaN  "
      ]
     },
     "execution_count": 23,
     "metadata": {},
     "output_type": "execute_result"
    }
   ],
   "source": [
    "# Visualizando o Dataframe\n",
    "df_populacao.tail()"
   ]
  },
  {
   "cell_type": "code",
   "execution_count": 24,
   "metadata": {},
   "outputs": [
    {
     "name": "stdout",
     "output_type": "stream",
     "text": [
      "<class 'pandas.core.frame.DataFrame'>\n",
      "RangeIndex: 42 entries, 0 to 41\n",
      "Data columns (total 2 columns):\n",
      " #   Column                               Non-Null Count  Dtype  \n",
      "---  ------                               --------------  -----  \n",
      " 0   UF [-]                               40 non-null     object \n",
      " 1   População estimada - pessoas [2020]  27 non-null     float64\n",
      "dtypes: float64(1), object(1)\n",
      "memory usage: 800.0+ bytes\n"
     ]
    }
   ],
   "source": [
    "# Tipos e quantidades dos dados\n",
    "df_populacao.info()"
   ]
  },
  {
   "cell_type": "code",
   "execution_count": 25,
   "metadata": {},
   "outputs": [
    {
     "data": {
      "text/html": [
       "<div>\n",
       "<style scoped>\n",
       "    .dataframe tbody tr th:only-of-type {\n",
       "        vertical-align: middle;\n",
       "    }\n",
       "\n",
       "    .dataframe tbody tr th {\n",
       "        vertical-align: top;\n",
       "    }\n",
       "\n",
       "    .dataframe thead th {\n",
       "        text-align: right;\n",
       "    }\n",
       "</style>\n",
       "<table border=\"1\" class=\"dataframe\">\n",
       "  <thead>\n",
       "    <tr style=\"text-align: right;\">\n",
       "      <th></th>\n",
       "      <th>UF [-]</th>\n",
       "      <th>População estimada - pessoas [2020]</th>\n",
       "    </tr>\n",
       "  </thead>\n",
       "  <tbody>\n",
       "    <tr>\n",
       "      <th>27</th>\n",
       "      <td>NaN</td>\n",
       "      <td>NaN</td>\n",
       "    </tr>\n",
       "    <tr>\n",
       "      <th>28</th>\n",
       "      <td>NaN</td>\n",
       "      <td>NaN</td>\n",
       "    </tr>\n",
       "    <tr>\n",
       "      <th>29</th>\n",
       "      <td>Notas:</td>\n",
       "      <td>NaN</td>\n",
       "    </tr>\n",
       "    <tr>\n",
       "      <th>30</th>\n",
       "      <td>População estimada: Diferença de 780 pessoas e...</td>\n",
       "      <td>NaN</td>\n",
       "    </tr>\n",
       "    <tr>\n",
       "      <th>31</th>\n",
       "      <td>Rendimento mensal domiciliar per capita: As es...</td>\n",
       "      <td>NaN</td>\n",
       "    </tr>\n",
       "    <tr>\n",
       "      <th>32</th>\n",
       "      <td>Fontes:</td>\n",
       "      <td>NaN</td>\n",
       "    </tr>\n",
       "    <tr>\n",
       "      <th>33</th>\n",
       "      <td>Área Territorial: Área territorial brasileira....</td>\n",
       "      <td>NaN</td>\n",
       "    </tr>\n",
       "    <tr>\n",
       "      <th>34</th>\n",
       "      <td>População estimada: IBGE, Diretoria de Pesquis...</td>\n",
       "      <td>NaN</td>\n",
       "    </tr>\n",
       "    <tr>\n",
       "      <th>35</th>\n",
       "      <td>Densidade demográfica: IBGE, Censo Demográfico...</td>\n",
       "      <td>NaN</td>\n",
       "    </tr>\n",
       "    <tr>\n",
       "      <th>36</th>\n",
       "      <td>IDH Índice de desenvolvimento humano : Progra...</td>\n",
       "      <td>NaN</td>\n",
       "    </tr>\n",
       "    <tr>\n",
       "      <th>37</th>\n",
       "      <td>Matrículas no ensino fundamental: Ministério ...</td>\n",
       "      <td>NaN</td>\n",
       "    </tr>\n",
       "    <tr>\n",
       "      <th>38</th>\n",
       "      <td>Total de veículos: Ministério das Cidades, Dep...</td>\n",
       "      <td>NaN</td>\n",
       "    </tr>\n",
       "    <tr>\n",
       "      <th>39</th>\n",
       "      <td>Receitas realizadas: Contas anuais. Receitas o...</td>\n",
       "      <td>NaN</td>\n",
       "    </tr>\n",
       "    <tr>\n",
       "      <th>40</th>\n",
       "      <td>Despesas empenhadas: Contas anuais. Receitas o...</td>\n",
       "      <td>NaN</td>\n",
       "    </tr>\n",
       "    <tr>\n",
       "      <th>41</th>\n",
       "      <td>Rendimento mensal domiciliar per capita: IBGE,...</td>\n",
       "      <td>NaN</td>\n",
       "    </tr>\n",
       "  </tbody>\n",
       "</table>\n",
       "</div>"
      ],
      "text/plain": [
       "                                               UF [-]  \\\n",
       "27                                                NaN   \n",
       "28                                                NaN   \n",
       "29                                             Notas:   \n",
       "30  População estimada: Diferença de 780 pessoas e...   \n",
       "31  Rendimento mensal domiciliar per capita: As es...   \n",
       "32                                            Fontes:   \n",
       "33  Área Territorial: Área territorial brasileira....   \n",
       "34  População estimada: IBGE, Diretoria de Pesquis...   \n",
       "35  Densidade demográfica: IBGE, Censo Demográfico...   \n",
       "36  IDH Índice de desenvolvimento humano : Progra...   \n",
       "37  Matrículas no ensino fundamental: Ministério ...   \n",
       "38  Total de veículos: Ministério das Cidades, Dep...   \n",
       "39  Receitas realizadas: Contas anuais. Receitas o...   \n",
       "40  Despesas empenhadas: Contas anuais. Receitas o...   \n",
       "41  Rendimento mensal domiciliar per capita: IBGE,...   \n",
       "\n",
       "    População estimada - pessoas [2020]  \n",
       "27                                  NaN  \n",
       "28                                  NaN  \n",
       "29                                  NaN  \n",
       "30                                  NaN  \n",
       "31                                  NaN  \n",
       "32                                  NaN  \n",
       "33                                  NaN  \n",
       "34                                  NaN  \n",
       "35                                  NaN  \n",
       "36                                  NaN  \n",
       "37                                  NaN  \n",
       "38                                  NaN  \n",
       "39                                  NaN  \n",
       "40                                  NaN  \n",
       "41                                  NaN  "
      ]
     },
     "execution_count": 25,
     "metadata": {},
     "output_type": "execute_result"
    }
   ],
   "source": [
    "# Verificando a coluna que possui dado nulo (População estimada - pessoas [2020])\n",
    "df_populacao[df_populacao['População estimada - pessoas [2020]'].isnull()]"
   ]
  },
  {
   "cell_type": "code",
   "execution_count": 26,
   "metadata": {},
   "outputs": [
    {
     "data": {
      "text/html": [
       "<div>\n",
       "<style scoped>\n",
       "    .dataframe tbody tr th:only-of-type {\n",
       "        vertical-align: middle;\n",
       "    }\n",
       "\n",
       "    .dataframe tbody tr th {\n",
       "        vertical-align: top;\n",
       "    }\n",
       "\n",
       "    .dataframe thead th {\n",
       "        text-align: right;\n",
       "    }\n",
       "</style>\n",
       "<table border=\"1\" class=\"dataframe\">\n",
       "  <thead>\n",
       "    <tr style=\"text-align: right;\">\n",
       "      <th></th>\n",
       "      <th>UF [-]</th>\n",
       "      <th>População estimada - pessoas [2020]</th>\n",
       "    </tr>\n",
       "  </thead>\n",
       "  <tbody>\n",
       "    <tr>\n",
       "      <th>22</th>\n",
       "      <td>Roraima</td>\n",
       "      <td>631181.0</td>\n",
       "    </tr>\n",
       "    <tr>\n",
       "      <th>23</th>\n",
       "      <td>Santa Catarina</td>\n",
       "      <td>7252502.0</td>\n",
       "    </tr>\n",
       "    <tr>\n",
       "      <th>24</th>\n",
       "      <td>São Paulo</td>\n",
       "      <td>46289333.0</td>\n",
       "    </tr>\n",
       "    <tr>\n",
       "      <th>25</th>\n",
       "      <td>Sergipe</td>\n",
       "      <td>2318822.0</td>\n",
       "    </tr>\n",
       "    <tr>\n",
       "      <th>26</th>\n",
       "      <td>Tocantins</td>\n",
       "      <td>1590248.0</td>\n",
       "    </tr>\n",
       "  </tbody>\n",
       "</table>\n",
       "</div>"
      ],
      "text/plain": [
       "            UF [-]  População estimada - pessoas [2020]\n",
       "22         Roraima                             631181.0\n",
       "23  Santa Catarina                            7252502.0\n",
       "24       São Paulo                           46289333.0\n",
       "25         Sergipe                            2318822.0\n",
       "26       Tocantins                            1590248.0"
      ]
     },
     "execution_count": 26,
     "metadata": {},
     "output_type": "execute_result"
    }
   ],
   "source": [
    "# Excluido onde possui dados nulos, pois se trata de Notas de rodapé\n",
    "df_populacao = df_populacao.dropna()\n",
    "df_populacao.tail()"
   ]
  },
  {
   "cell_type": "code",
   "execution_count": 27,
   "metadata": {},
   "outputs": [
    {
     "name": "stdout",
     "output_type": "stream",
     "text": [
      "<class 'pandas.core.frame.DataFrame'>\n",
      "Int64Index: 27 entries, 0 to 26\n",
      "Data columns (total 2 columns):\n",
      " #   Column                               Non-Null Count  Dtype  \n",
      "---  ------                               --------------  -----  \n",
      " 0   UF [-]                               27 non-null     object \n",
      " 1   População estimada - pessoas [2020]  27 non-null     float64\n",
      "dtypes: float64(1), object(1)\n",
      "memory usage: 648.0+ bytes\n"
     ]
    }
   ],
   "source": [
    "# Tipos e quantidades dos dados\n",
    "df_populacao.info()"
   ]
  },
  {
   "cell_type": "markdown",
   "metadata": {},
   "source": [
    "### Distribuição de medicamentos por 100.000 habitantes"
   ]
  },
  {
   "cell_type": "code",
   "execution_count": 28,
   "metadata": {},
   "outputs": [],
   "source": [
    "# Data Frame com as quantidades de medicamentos distribuidos para os Estados\n",
    "total_medicamentos = df.groupby(['UF'])['QUANTIDADE'].sum().reset_index()"
   ]
  },
  {
   "cell_type": "code",
   "execution_count": 29,
   "metadata": {},
   "outputs": [
    {
     "data": {
      "text/html": [
       "<div>\n",
       "<style scoped>\n",
       "    .dataframe tbody tr th:only-of-type {\n",
       "        vertical-align: middle;\n",
       "    }\n",
       "\n",
       "    .dataframe tbody tr th {\n",
       "        vertical-align: top;\n",
       "    }\n",
       "\n",
       "    .dataframe thead th {\n",
       "        text-align: right;\n",
       "    }\n",
       "</style>\n",
       "<table border=\"1\" class=\"dataframe\">\n",
       "  <thead>\n",
       "    <tr style=\"text-align: right;\">\n",
       "      <th></th>\n",
       "      <th>UF</th>\n",
       "      <th>QUANTIDADE</th>\n",
       "    </tr>\n",
       "  </thead>\n",
       "  <tbody>\n",
       "    <tr>\n",
       "      <th>0</th>\n",
       "      <td>ACRE</td>\n",
       "      <td>585.01</td>\n",
       "    </tr>\n",
       "    <tr>\n",
       "      <th>1</th>\n",
       "      <td>ALAGOAS</td>\n",
       "      <td>712.50</td>\n",
       "    </tr>\n",
       "    <tr>\n",
       "      <th>2</th>\n",
       "      <td>AMAPA</td>\n",
       "      <td>3308.50</td>\n",
       "    </tr>\n",
       "    <tr>\n",
       "      <th>3</th>\n",
       "      <td>AMAZONAS</td>\n",
       "      <td>1495.56</td>\n",
       "    </tr>\n",
       "    <tr>\n",
       "      <th>4</th>\n",
       "      <td>BAHIA</td>\n",
       "      <td>616.17</td>\n",
       "    </tr>\n",
       "    <tr>\n",
       "      <th>5</th>\n",
       "      <td>CEARÁ</td>\n",
       "      <td>986.63</td>\n",
       "    </tr>\n",
       "    <tr>\n",
       "      <th>6</th>\n",
       "      <td>DISTRITO FEDERAL</td>\n",
       "      <td>163.46</td>\n",
       "    </tr>\n",
       "    <tr>\n",
       "      <th>7</th>\n",
       "      <td>ESPÍRITO SANTO</td>\n",
       "      <td>1441.40</td>\n",
       "    </tr>\n",
       "    <tr>\n",
       "      <th>8</th>\n",
       "      <td>GOIÁS</td>\n",
       "      <td>1803.53</td>\n",
       "    </tr>\n",
       "    <tr>\n",
       "      <th>9</th>\n",
       "      <td>MARANHÃO</td>\n",
       "      <td>161.07</td>\n",
       "    </tr>\n",
       "    <tr>\n",
       "      <th>10</th>\n",
       "      <td>MATO GROSSO</td>\n",
       "      <td>8425.69</td>\n",
       "    </tr>\n",
       "    <tr>\n",
       "      <th>11</th>\n",
       "      <td>MATO GROSSO DO SUL</td>\n",
       "      <td>530.74</td>\n",
       "    </tr>\n",
       "    <tr>\n",
       "      <th>12</th>\n",
       "      <td>MINAS GERAIS</td>\n",
       "      <td>3712.37</td>\n",
       "    </tr>\n",
       "    <tr>\n",
       "      <th>13</th>\n",
       "      <td>PARANÁ</td>\n",
       "      <td>5531.65</td>\n",
       "    </tr>\n",
       "    <tr>\n",
       "      <th>14</th>\n",
       "      <td>PARAÍBA</td>\n",
       "      <td>682.50</td>\n",
       "    </tr>\n",
       "    <tr>\n",
       "      <th>15</th>\n",
       "      <td>PARÁ</td>\n",
       "      <td>1067.28</td>\n",
       "    </tr>\n",
       "    <tr>\n",
       "      <th>16</th>\n",
       "      <td>PERNAMBUCO</td>\n",
       "      <td>880.18</td>\n",
       "    </tr>\n",
       "    <tr>\n",
       "      <th>17</th>\n",
       "      <td>PIAUÍ</td>\n",
       "      <td>2590.00</td>\n",
       "    </tr>\n",
       "    <tr>\n",
       "      <th>18</th>\n",
       "      <td>RIO DE JANEIRO</td>\n",
       "      <td>773.00</td>\n",
       "    </tr>\n",
       "    <tr>\n",
       "      <th>19</th>\n",
       "      <td>RIO GRANDE DO NORTE</td>\n",
       "      <td>1979.40</td>\n",
       "    </tr>\n",
       "    <tr>\n",
       "      <th>20</th>\n",
       "      <td>RIO GRANDE DO SUL</td>\n",
       "      <td>8082.64</td>\n",
       "    </tr>\n",
       "    <tr>\n",
       "      <th>21</th>\n",
       "      <td>RONDÔNIA</td>\n",
       "      <td>1522.00</td>\n",
       "    </tr>\n",
       "    <tr>\n",
       "      <th>22</th>\n",
       "      <td>RORAIMA</td>\n",
       "      <td>1186.28</td>\n",
       "    </tr>\n",
       "    <tr>\n",
       "      <th>23</th>\n",
       "      <td>SANTA CATARINA</td>\n",
       "      <td>5023.66</td>\n",
       "    </tr>\n",
       "    <tr>\n",
       "      <th>24</th>\n",
       "      <td>SERGIPE</td>\n",
       "      <td>145.30</td>\n",
       "    </tr>\n",
       "    <tr>\n",
       "      <th>25</th>\n",
       "      <td>SÃO PAULO</td>\n",
       "      <td>6002.25</td>\n",
       "    </tr>\n",
       "    <tr>\n",
       "      <th>26</th>\n",
       "      <td>TOCANTINS</td>\n",
       "      <td>1087.50</td>\n",
       "    </tr>\n",
       "  </tbody>\n",
       "</table>\n",
       "</div>"
      ],
      "text/plain": [
       "                     UF  QUANTIDADE\n",
       "0                  ACRE      585.01\n",
       "1               ALAGOAS      712.50\n",
       "2                 AMAPA     3308.50\n",
       "3              AMAZONAS     1495.56\n",
       "4                 BAHIA      616.17\n",
       "5                 CEARÁ      986.63\n",
       "6      DISTRITO FEDERAL      163.46\n",
       "7        ESPÍRITO SANTO     1441.40\n",
       "8                 GOIÁS     1803.53\n",
       "9              MARANHÃO      161.07\n",
       "10          MATO GROSSO     8425.69\n",
       "11   MATO GROSSO DO SUL      530.74\n",
       "12         MINAS GERAIS     3712.37\n",
       "13               PARANÁ     5531.65\n",
       "14              PARAÍBA      682.50\n",
       "15                 PARÁ     1067.28\n",
       "16           PERNAMBUCO      880.18\n",
       "17                PIAUÍ     2590.00\n",
       "18       RIO DE JANEIRO      773.00\n",
       "19  RIO GRANDE DO NORTE     1979.40\n",
       "20    RIO GRANDE DO SUL     8082.64\n",
       "21             RONDÔNIA     1522.00\n",
       "22              RORAIMA     1186.28\n",
       "23       SANTA CATARINA     5023.66\n",
       "24              SERGIPE      145.30\n",
       "25            SÃO PAULO     6002.25\n",
       "26            TOCANTINS     1087.50"
      ]
     },
     "execution_count": 29,
     "metadata": {},
     "output_type": "execute_result"
    }
   ],
   "source": [
    "total_medicamentos.head(30)"
   ]
  },
  {
   "cell_type": "code",
   "execution_count": 30,
   "metadata": {},
   "outputs": [
    {
     "name": "stdout",
     "output_type": "stream",
     "text": [
      "<class 'pandas.core.frame.DataFrame'>\n",
      "RangeIndex: 27 entries, 0 to 26\n",
      "Data columns (total 2 columns):\n",
      " #   Column      Non-Null Count  Dtype  \n",
      "---  ------      --------------  -----  \n",
      " 0   UF          27 non-null     object \n",
      " 1   QUANTIDADE  27 non-null     float64\n",
      "dtypes: float64(1), object(1)\n",
      "memory usage: 560.0+ bytes\n"
     ]
    }
   ],
   "source": [
    "total_medicamentos.info()"
   ]
  },
  {
   "cell_type": "code",
   "execution_count": 31,
   "metadata": {},
   "outputs": [
    {
     "data": {
      "image/png": "[encoded data removed]",
      "text/plain": [
       "<Figure size 720x576 with 1 Axes>"
      ]
     },
     "metadata": {
      "needs_background": "light"
     },
     "output_type": "display_data"
    }
   ],
   "source": [
    "# Grafico de barras da taxa de distribuição de medicamentos\n",
    "total_medicamentos.plot.bar(x='UF', y='QUANTIDADE', figsize=(10,8))\n",
    "\n",
    "# Exibir legenda\n",
    "plt.legend()\n",
    "\n",
    "# Titulo\n",
    "plt.title('DISTRIBUIÇÃO DE MEDICAMENTOS POR ESTADO')\n",
    "\n",
    "# Nome dos eixos\n",
    "plt.xlabel('UF')\n",
    "plt.ylabel('QUANTIDADE');"
   ]
  },
  {
   "cell_type": "code",
   "execution_count": 32,
   "metadata": {},
   "outputs": [
    {
     "data": {
      "text/html": [
       "<div>\n",
       "<style scoped>\n",
       "    .dataframe tbody tr th:only-of-type {\n",
       "        vertical-align: middle;\n",
       "    }\n",
       "\n",
       "    .dataframe tbody tr th {\n",
       "        vertical-align: top;\n",
       "    }\n",
       "\n",
       "    .dataframe thead th {\n",
       "        text-align: right;\n",
       "    }\n",
       "</style>\n",
       "<table border=\"1\" class=\"dataframe\">\n",
       "  <thead>\n",
       "    <tr style=\"text-align: right;\">\n",
       "      <th></th>\n",
       "      <th>UF</th>\n",
       "      <th>QUANTIDADE</th>\n",
       "      <th>UF [-]</th>\n",
       "      <th>População estimada - pessoas [2020]</th>\n",
       "    </tr>\n",
       "  </thead>\n",
       "  <tbody>\n",
       "    <tr>\n",
       "      <th>0</th>\n",
       "      <td>ACRE</td>\n",
       "      <td>585.01</td>\n",
       "      <td>Acre</td>\n",
       "      <td>894470.0</td>\n",
       "    </tr>\n",
       "    <tr>\n",
       "      <th>1</th>\n",
       "      <td>ALAGOAS</td>\n",
       "      <td>712.50</td>\n",
       "      <td>Alagoas</td>\n",
       "      <td>3351543.0</td>\n",
       "    </tr>\n",
       "    <tr>\n",
       "      <th>2</th>\n",
       "      <td>AMAPA</td>\n",
       "      <td>3308.50</td>\n",
       "      <td>Amapá</td>\n",
       "      <td>861773.0</td>\n",
       "    </tr>\n",
       "    <tr>\n",
       "      <th>3</th>\n",
       "      <td>AMAZONAS</td>\n",
       "      <td>1495.56</td>\n",
       "      <td>Amazonas</td>\n",
       "      <td>4207714.0</td>\n",
       "    </tr>\n",
       "    <tr>\n",
       "      <th>4</th>\n",
       "      <td>BAHIA</td>\n",
       "      <td>616.17</td>\n",
       "      <td>Bahia</td>\n",
       "      <td>14930634.0</td>\n",
       "    </tr>\n",
       "  </tbody>\n",
       "</table>\n",
       "</div>"
      ],
      "text/plain": [
       "         UF  QUANTIDADE    UF [-]  População estimada - pessoas [2020]\n",
       "0      ACRE      585.01      Acre                             894470.0\n",
       "1   ALAGOAS      712.50   Alagoas                            3351543.0\n",
       "2     AMAPA     3308.50     Amapá                             861773.0\n",
       "3  AMAZONAS     1495.56  Amazonas                            4207714.0\n",
       "4     BAHIA      616.17     Bahia                           14930634.0"
      ]
     },
     "execution_count": 32,
     "metadata": {},
     "output_type": "execute_result"
    }
   ],
   "source": [
    "# Unindo os dataframes total_medicamentos e populaão\n",
    "df_medic_pupulacao = total_medicamentos.join(df_populacao)\n",
    "df_medic_pupulacao.head()"
   ]
  },
  {
   "cell_type": "code",
   "execution_count": 33,
   "metadata": {},
   "outputs": [
    {
     "name": "stdout",
     "output_type": "stream",
     "text": [
      "<class 'pandas.core.frame.DataFrame'>\n",
      "RangeIndex: 27 entries, 0 to 26\n",
      "Data columns (total 4 columns):\n",
      " #   Column                               Non-Null Count  Dtype  \n",
      "---  ------                               --------------  -----  \n",
      " 0   UF                                   27 non-null     object \n",
      " 1   QUANTIDADE                           27 non-null     float64\n",
      " 2   UF [-]                               27 non-null     object \n",
      " 3   População estimada - pessoas [2020]  27 non-null     float64\n",
      "dtypes: float64(2), object(2)\n",
      "memory usage: 992.0+ bytes\n"
     ]
    }
   ],
   "source": [
    "df_medic_pupulacao.info()"
   ]
  },
  {
   "cell_type": "code",
   "execution_count": 34,
   "metadata": {},
   "outputs": [],
   "source": [
    "# Eliminando a coluna duplicada dos Estados ( UF [-])\n",
    "df_medic_pupulacao = df_medic_pupulacao.drop(columns=['UF [-]'])"
   ]
  },
  {
   "cell_type": "code",
   "execution_count": 35,
   "metadata": {},
   "outputs": [
    {
     "data": {
      "text/html": [
       "<div>\n",
       "<style scoped>\n",
       "    .dataframe tbody tr th:only-of-type {\n",
       "        vertical-align: middle;\n",
       "    }\n",
       "\n",
       "    .dataframe tbody tr th {\n",
       "        vertical-align: top;\n",
       "    }\n",
       "\n",
       "    .dataframe thead th {\n",
       "        text-align: right;\n",
       "    }\n",
       "</style>\n",
       "<table border=\"1\" class=\"dataframe\">\n",
       "  <thead>\n",
       "    <tr style=\"text-align: right;\">\n",
       "      <th></th>\n",
       "      <th>UF</th>\n",
       "      <th>QUANTIDADE</th>\n",
       "      <th>POPULAÇÃO</th>\n",
       "    </tr>\n",
       "  </thead>\n",
       "  <tbody>\n",
       "    <tr>\n",
       "      <th>0</th>\n",
       "      <td>ACRE</td>\n",
       "      <td>585.01</td>\n",
       "      <td>894470.0</td>\n",
       "    </tr>\n",
       "    <tr>\n",
       "      <th>1</th>\n",
       "      <td>ALAGOAS</td>\n",
       "      <td>712.50</td>\n",
       "      <td>3351543.0</td>\n",
       "    </tr>\n",
       "    <tr>\n",
       "      <th>2</th>\n",
       "      <td>AMAPA</td>\n",
       "      <td>3308.50</td>\n",
       "      <td>861773.0</td>\n",
       "    </tr>\n",
       "    <tr>\n",
       "      <th>3</th>\n",
       "      <td>AMAZONAS</td>\n",
       "      <td>1495.56</td>\n",
       "      <td>4207714.0</td>\n",
       "    </tr>\n",
       "    <tr>\n",
       "      <th>4</th>\n",
       "      <td>BAHIA</td>\n",
       "      <td>616.17</td>\n",
       "      <td>14930634.0</td>\n",
       "    </tr>\n",
       "  </tbody>\n",
       "</table>\n",
       "</div>"
      ],
      "text/plain": [
       "         UF  QUANTIDADE   POPULAÇÃO\n",
       "0      ACRE      585.01    894470.0\n",
       "1   ALAGOAS      712.50   3351543.0\n",
       "2     AMAPA     3308.50    861773.0\n",
       "3  AMAZONAS     1495.56   4207714.0\n",
       "4     BAHIA      616.17  14930634.0"
      ]
     },
     "execution_count": 35,
     "metadata": {},
     "output_type": "execute_result"
    }
   ],
   "source": [
    "# Renomeando a coluna população\n",
    "df_medic_pupulacao.rename(columns={'População estimada - pessoas [2020]': 'POPULAÇÃO'}, inplace = True)\n",
    "\n",
    "df_medic_pupulacao.head()"
   ]
  },
  {
   "cell_type": "code",
   "execution_count": 36,
   "metadata": {},
   "outputs": [],
   "source": [
    "# Criar uma nova coluna com a relação de distribuição de medicamentos por 100 mol habitantes\n",
    "df_medic_pupulacao['Medicamentos/100k hab'] = df_medic_pupulacao['QUANTIDADE'] / (df_medic_pupulacao['POPULAÇÃO']/100000)"
   ]
  },
  {
   "cell_type": "code",
   "execution_count": 37,
   "metadata": {},
   "outputs": [
    {
     "data": {
      "text/html": [
       "<div>\n",
       "<style scoped>\n",
       "    .dataframe tbody tr th:only-of-type {\n",
       "        vertical-align: middle;\n",
       "    }\n",
       "\n",
       "    .dataframe tbody tr th {\n",
       "        vertical-align: top;\n",
       "    }\n",
       "\n",
       "    .dataframe thead th {\n",
       "        text-align: right;\n",
       "    }\n",
       "</style>\n",
       "<table border=\"1\" class=\"dataframe\">\n",
       "  <thead>\n",
       "    <tr style=\"text-align: right;\">\n",
       "      <th></th>\n",
       "      <th>UF</th>\n",
       "      <th>QUANTIDADE</th>\n",
       "      <th>POPULAÇÃO</th>\n",
       "      <th>Medicamentos/100k hab</th>\n",
       "    </tr>\n",
       "  </thead>\n",
       "  <tbody>\n",
       "    <tr>\n",
       "      <th>0</th>\n",
       "      <td>ACRE</td>\n",
       "      <td>585.01</td>\n",
       "      <td>894470.0</td>\n",
       "      <td>65.402976</td>\n",
       "    </tr>\n",
       "    <tr>\n",
       "      <th>1</th>\n",
       "      <td>ALAGOAS</td>\n",
       "      <td>712.50</td>\n",
       "      <td>3351543.0</td>\n",
       "      <td>21.258865</td>\n",
       "    </tr>\n",
       "    <tr>\n",
       "      <th>2</th>\n",
       "      <td>AMAPA</td>\n",
       "      <td>3308.50</td>\n",
       "      <td>861773.0</td>\n",
       "      <td>383.917807</td>\n",
       "    </tr>\n",
       "    <tr>\n",
       "      <th>3</th>\n",
       "      <td>AMAZONAS</td>\n",
       "      <td>1495.56</td>\n",
       "      <td>4207714.0</td>\n",
       "      <td>35.543290</td>\n",
       "    </tr>\n",
       "    <tr>\n",
       "      <th>4</th>\n",
       "      <td>BAHIA</td>\n",
       "      <td>616.17</td>\n",
       "      <td>14930634.0</td>\n",
       "      <td>4.126884</td>\n",
       "    </tr>\n",
       "    <tr>\n",
       "      <th>5</th>\n",
       "      <td>CEARÁ</td>\n",
       "      <td>986.63</td>\n",
       "      <td>9187103.0</td>\n",
       "      <td>10.739294</td>\n",
       "    </tr>\n",
       "    <tr>\n",
       "      <th>6</th>\n",
       "      <td>DISTRITO FEDERAL</td>\n",
       "      <td>163.46</td>\n",
       "      <td>3055149.0</td>\n",
       "      <td>5.350312</td>\n",
       "    </tr>\n",
       "    <tr>\n",
       "      <th>7</th>\n",
       "      <td>ESPÍRITO SANTO</td>\n",
       "      <td>1441.40</td>\n",
       "      <td>4064052.0</td>\n",
       "      <td>35.467066</td>\n",
       "    </tr>\n",
       "    <tr>\n",
       "      <th>8</th>\n",
       "      <td>GOIÁS</td>\n",
       "      <td>1803.53</td>\n",
       "      <td>7113540.0</td>\n",
       "      <td>25.353481</td>\n",
       "    </tr>\n",
       "    <tr>\n",
       "      <th>9</th>\n",
       "      <td>MARANHÃO</td>\n",
       "      <td>161.07</td>\n",
       "      <td>7114598.0</td>\n",
       "      <td>2.263937</td>\n",
       "    </tr>\n",
       "    <tr>\n",
       "      <th>10</th>\n",
       "      <td>MATO GROSSO</td>\n",
       "      <td>8425.69</td>\n",
       "      <td>3526220.0</td>\n",
       "      <td>238.943968</td>\n",
       "    </tr>\n",
       "    <tr>\n",
       "      <th>11</th>\n",
       "      <td>MATO GROSSO DO SUL</td>\n",
       "      <td>530.74</td>\n",
       "      <td>2809394.0</td>\n",
       "      <td>18.891619</td>\n",
       "    </tr>\n",
       "    <tr>\n",
       "      <th>12</th>\n",
       "      <td>MINAS GERAIS</td>\n",
       "      <td>3712.37</td>\n",
       "      <td>21292666.0</td>\n",
       "      <td>17.434970</td>\n",
       "    </tr>\n",
       "    <tr>\n",
       "      <th>13</th>\n",
       "      <td>PARANÁ</td>\n",
       "      <td>5531.65</td>\n",
       "      <td>8690745.0</td>\n",
       "      <td>63.649894</td>\n",
       "    </tr>\n",
       "    <tr>\n",
       "      <th>14</th>\n",
       "      <td>PARAÍBA</td>\n",
       "      <td>682.50</td>\n",
       "      <td>4039277.0</td>\n",
       "      <td>16.896588</td>\n",
       "    </tr>\n",
       "    <tr>\n",
       "      <th>15</th>\n",
       "      <td>PARÁ</td>\n",
       "      <td>1067.28</td>\n",
       "      <td>11516840.0</td>\n",
       "      <td>9.267125</td>\n",
       "    </tr>\n",
       "    <tr>\n",
       "      <th>16</th>\n",
       "      <td>PERNAMBUCO</td>\n",
       "      <td>880.18</td>\n",
       "      <td>9616621.0</td>\n",
       "      <td>9.152695</td>\n",
       "    </tr>\n",
       "    <tr>\n",
       "      <th>17</th>\n",
       "      <td>PIAUÍ</td>\n",
       "      <td>2590.00</td>\n",
       "      <td>3281480.0</td>\n",
       "      <td>78.927801</td>\n",
       "    </tr>\n",
       "    <tr>\n",
       "      <th>18</th>\n",
       "      <td>RIO DE JANEIRO</td>\n",
       "      <td>773.00</td>\n",
       "      <td>17366189.0</td>\n",
       "      <td>4.451178</td>\n",
       "    </tr>\n",
       "    <tr>\n",
       "      <th>19</th>\n",
       "      <td>RIO GRANDE DO NORTE</td>\n",
       "      <td>1979.40</td>\n",
       "      <td>3534165.0</td>\n",
       "      <td>56.007572</td>\n",
       "    </tr>\n",
       "    <tr>\n",
       "      <th>20</th>\n",
       "      <td>RIO GRANDE DO SUL</td>\n",
       "      <td>8082.64</td>\n",
       "      <td>11422973.0</td>\n",
       "      <td>70.757762</td>\n",
       "    </tr>\n",
       "    <tr>\n",
       "      <th>21</th>\n",
       "      <td>RONDÔNIA</td>\n",
       "      <td>1522.00</td>\n",
       "      <td>1796460.0</td>\n",
       "      <td>84.722176</td>\n",
       "    </tr>\n",
       "    <tr>\n",
       "      <th>22</th>\n",
       "      <td>RORAIMA</td>\n",
       "      <td>1186.28</td>\n",
       "      <td>631181.0</td>\n",
       "      <td>187.946088</td>\n",
       "    </tr>\n",
       "    <tr>\n",
       "      <th>23</th>\n",
       "      <td>SANTA CATARINA</td>\n",
       "      <td>5023.66</td>\n",
       "      <td>7252502.0</td>\n",
       "      <td>69.267957</td>\n",
       "    </tr>\n",
       "    <tr>\n",
       "      <th>24</th>\n",
       "      <td>SERGIPE</td>\n",
       "      <td>145.30</td>\n",
       "      <td>46289333.0</td>\n",
       "      <td>0.313895</td>\n",
       "    </tr>\n",
       "    <tr>\n",
       "      <th>25</th>\n",
       "      <td>SÃO PAULO</td>\n",
       "      <td>6002.25</td>\n",
       "      <td>2318822.0</td>\n",
       "      <td>258.849105</td>\n",
       "    </tr>\n",
       "    <tr>\n",
       "      <th>26</th>\n",
       "      <td>TOCANTINS</td>\n",
       "      <td>1087.50</td>\n",
       "      <td>1590248.0</td>\n",
       "      <td>68.385560</td>\n",
       "    </tr>\n",
       "  </tbody>\n",
       "</table>\n",
       "</div>"
      ],
      "text/plain": [
       "                     UF  QUANTIDADE   POPULAÇÃO  Medicamentos/100k hab\n",
       "0                  ACRE      585.01    894470.0              65.402976\n",
       "1               ALAGOAS      712.50   3351543.0              21.258865\n",
       "2                 AMAPA     3308.50    861773.0             383.917807\n",
       "3              AMAZONAS     1495.56   4207714.0              35.543290\n",
       "4                 BAHIA      616.17  14930634.0               4.126884\n",
       "5                 CEARÁ      986.63   9187103.0              10.739294\n",
       "6      DISTRITO FEDERAL      163.46   3055149.0               5.350312\n",
       "7        ESPÍRITO SANTO     1441.40   4064052.0              35.467066\n",
       "8                 GOIÁS     1803.53   7113540.0              25.353481\n",
       "9              MARANHÃO      161.07   7114598.0               2.263937\n",
       "10          MATO GROSSO     8425.69   3526220.0             238.943968\n",
       "11   MATO GROSSO DO SUL      530.74   2809394.0              18.891619\n",
       "12         MINAS GERAIS     3712.37  21292666.0              17.434970\n",
       "13               PARANÁ     5531.65   8690745.0              63.649894\n",
       "14              PARAÍBA      682.50   4039277.0              16.896588\n",
       "15                 PARÁ     1067.28  11516840.0               9.267125\n",
       "16           PERNAMBUCO      880.18   9616621.0               9.152695\n",
       "17                PIAUÍ     2590.00   3281480.0              78.927801\n",
       "18       RIO DE JANEIRO      773.00  17366189.0               4.451178\n",
       "19  RIO GRANDE DO NORTE     1979.40   3534165.0              56.007572\n",
       "20    RIO GRANDE DO SUL     8082.64  11422973.0              70.757762\n",
       "21             RONDÔNIA     1522.00   1796460.0              84.722176\n",
       "22              RORAIMA     1186.28    631181.0             187.946088\n",
       "23       SANTA CATARINA     5023.66   7252502.0              69.267957\n",
       "24              SERGIPE      145.30  46289333.0               0.313895\n",
       "25            SÃO PAULO     6002.25   2318822.0             258.849105\n",
       "26            TOCANTINS     1087.50   1590248.0              68.385560"
      ]
     },
     "execution_count": 37,
     "metadata": {},
     "output_type": "execute_result"
    }
   ],
   "source": [
    "df_medic_pupulacao"
   ]
  },
  {
   "cell_type": "code",
   "execution_count": 38,
   "metadata": {},
   "outputs": [
    {
     "data": {
      "image/png": "[encoded data removed]",
      "text/plain": [
       "<Figure size 720x576 with 1 Axes>"
      ]
     },
     "metadata": {
      "needs_background": "light"
     },
     "output_type": "display_data"
    }
   ],
   "source": [
    "# Grafico de barras da taxa de distribuição de medicamentos por 100 mil habitantes\n",
    "df_medic_pupulacao.plot.bar(x='UF', y='Medicamentos/100k hab', figsize=(10,8))\n",
    "\n",
    "# Exibir legenda\n",
    "plt.legend()\n",
    "\n",
    "# Titulo\n",
    "plt.title('DISTRIBUIÇÃO DE MEDICAMENTOS POR 100MIL HAB')\n",
    "\n",
    "# Nome dos eixos\n",
    "plt.xlabel('UF')\n",
    "plt.ylabel('Medicamentos/100k hab');\n",
    "\n",
    "\n"
   ]
  },
  {
   "cell_type": "markdown",
   "metadata": {},
   "source": [
    "## 4. Conclusão\n",
    "\n",
    "Foram apresentadas algumas informações sobre a distribuição dos medicamentos para COVID-19 e em quais programas de saúde foi dada essa distribuição.\n",
    "Os Estados com que mais receberam medicamentos em valor absoluto foram Mato Grosso, Rio Grande do Sul e São Paulo.\n",
    "Mas os que receberam mais medicamentos proporcionalmente à população foram Amapá, São Paulo e Mato Grosso.\n"
   ]
  },
  {
   "cell_type": "code",
   "execution_count": null,
   "metadata": {},
   "outputs": [],
   "source": []
  }
 ],
 "metadata": {
  "kernelspec": {
   "display_name": "Python 3",
   "language": "python",
   "name": "python3"
  },
  "language_info": {
   "codemirror_mode": {
    "name": "ipython",
    "version": 3
   },
   "file_extension": ".py",
   "mimetype": "text/x-python",
   "name": "python",
   "nbconvert_exporter": "python",
   "pygments_lexer": "ipython3",
   "version": "3.7.6"
  }
 },
 "nbformat": 4,
 "nbformat_minor": 4
}
